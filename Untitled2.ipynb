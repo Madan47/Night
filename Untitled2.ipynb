{
 "cells": [
  {
   "cell_type": "code",
   "execution_count": 4,
   "metadata": {},
   "outputs": [
    {
     "ename": "IndentationError",
     "evalue": "expected an indented block (<ipython-input-4-252661caff5b>, line 9)",
     "output_type": "error",
     "traceback": [
      "\u001b[1;36m  File \u001b[1;32m\"<ipython-input-4-252661caff5b>\"\u001b[1;36m, line \u001b[1;32m9\u001b[0m\n\u001b[1;33m    print(\"you should try to wake up at\")\u001b[0m\n\u001b[1;37m        ^\u001b[0m\n\u001b[1;31mIndentationError\u001b[0m\u001b[1;31m:\u001b[0m expected an indented block\n"
     ]
    }
   ],
   "source": [
    "print(\"please enter 1 if you want to enter the sleeping time and know wake up time\")\n",
    "print(\"please enter o if you want to enter wakeup time and know sleeping time\")\n",
    "option=int(input(\"enter the option\"))\n",
    "hour=int(input(\"enter hours\"))\n",
    "minute=int(input(\"enter minutes\"))\n",
    "secoend=int(input(\"enter secoend\"))\n",
    "if(0<=hour<24 and 0<=minute<60 and 0<=secoend<60):\n",
    "    if(option==1):\n",
    "    print(\"you should try to wake up at\",)\n",
    "for i in range(1,5):\n",
    "    hour=hour+1\n",
    "    minute+=30\n",
    "    if(minute>=60)\n",
    "    minute=minute%60\n",
    "    hour=hour+1\n",
    "    hour=hour%24\n",
    "    print(hour,\":\",minute,\"or\")\n",
    "    \n",
    "    if(option==0):\n",
    "        hour=hour-6\n",
    "        if(hour<0):\n",
    "            hour=hour+24\n",
    "            print(\"you should sleep at\",)\n",
    "            for i in range(1,5):\n",
    "                if(minute>=60):\n",
    "                    minute+minute%60\n",
    "                    hour=hour+1\n",
    "                    hour+hour%24\n",
    "                    minute+=30\n",
    "                if(minute>=60):\n",
    "                    minute=minute%60\n",
    "                    hour+hour+1\n",
    "                    print(hour,\":\",minute,)\n",
    "                    else:\n",
    "                        print(\"please enter the correct option\")\n",
    "                    else:\n",
    "                        print(\"please reenter the time\")\n",
    "                "
   ]
  },
  {
   "cell_type": "code",
   "execution_count": null,
   "metadata": {},
   "outputs": [],
   "source": []
  },
  {
   "cell_type": "code",
   "execution_count": null,
   "metadata": {},
   "outputs": [],
   "source": []
  }
 ],
 "metadata": {
  "kernelspec": {
   "display_name": "Python 3",
   "language": "python",
   "name": "python3"
  },
  "language_info": {
   "codemirror_mode": {
    "name": "ipython",
    "version": 3
   },
   "file_extension": ".py",
   "mimetype": "text/x-python",
   "name": "python",
   "nbconvert_exporter": "python",
   "pygments_lexer": "ipython3",
   "version": "3.7.4"
  }
 },
 "nbformat": 4,
 "nbformat_minor": 2
}
